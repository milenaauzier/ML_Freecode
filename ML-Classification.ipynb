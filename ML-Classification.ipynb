{
 "cells": [
  {
   "cell_type": "markdown",
   "id": "aaa08ed2-d87c-4149-940a-686c7d26437e",
   "metadata": {},
   "source": [
    "# ML - Classification "
   ]
  },
  {
   "cell_type": "code",
   "execution_count": 2,
   "id": "91ed43bd-6af8-42d4-973a-64fd095d2d06",
   "metadata": {},
   "outputs": [],
   "source": [
    "import tensorflow as tf\n",
    "import pandas as pd"
   ]
  },
  {
   "cell_type": "markdown",
   "id": "a6c86c96-9a34-43a9-81d9-1a2a193c5ac8",
   "metadata": {},
   "source": [
    "##### O conjunto de dados\n",
    "O programa de exemplo neste documento cria e testa um modelo que classifica as flores de íris em três espécies diferentes com base no tamanho de suas sépalas e pétalas .\n",
    "\n",
    "Você treinará um modelo usando o conjunto de dados Iris. O conjunto de dados Iris contém quatro recursos e um rótulo . As quatro características identificam as seguintes características botânicas de flores individuais de íris:\n",
    "\n",
    "- comprimento da sépala\n",
    "- largura da sépala\n",
    "- comprimento da pétala\n",
    "- largura da pétala\n",
    "\n",
    "Com base nessas informações, você pode definir algumas constantes úteis para analisar os dados:"
   ]
  },
  {
   "cell_type": "code",
   "execution_count": 3,
   "id": "30a94f4a-7dd7-40fa-b943-4a3cb45a0073",
   "metadata": {},
   "outputs": [],
   "source": [
    "CSV_COLUMN_NAMES = ['SepalLenght', 'SepalWidth', 'PetalLength','PetalWidth', 'Species' ]\n",
    "SPECIES = ['Setosa', 'Versicolor', 'Virginica']"
   ]
  },
  {
   "cell_type": "markdown",
   "id": "ada226c2-7ccc-47df-87f5-a52a447fa290",
   "metadata": {},
   "source": [
    "Em seguida, baixe e analise o conjunto de dados Iris usando Keras e Pandas. Observe que você mantém conjuntos de dados distintos para treinamento e teste."
   ]
  },
  {
   "cell_type": "code",
   "execution_count": 4,
   "id": "dac5a1c2-f438-4886-bc3f-4396568cef47",
   "metadata": {},
   "outputs": [],
   "source": [
    "train_path = tf.keras.utils.get_file(\n",
    "\"iris_training.csv\", \"https://storage.googleapis.com/download.tensorflow.org/data/iris_training.csv\")\n",
    "test_path = tf.keras.utils.get_file(\n",
    "\"iris_test.csv\", \"https://storage.googleapis.com/download.tensorflow.org/data/iris_test.csv\")\n",
    "train = pd.read_csv(train_path, names= CSV_COLUMN_NAMES, header = 0)\n",
    "test = pd.read_csv(test_path, names = CSV_COLUMN_NAMES, header = 0)"
   ]
  },
  {
   "cell_type": "code",
   "execution_count": 5,
   "id": "a7ee1e16-f3e9-43c7-9469-55e08facee41",
   "metadata": {},
   "outputs": [
    {
     "data": {
      "text/html": [
       "<div>\n",
       "<style scoped>\n",
       "    .dataframe tbody tr th:only-of-type {\n",
       "        vertical-align: middle;\n",
       "    }\n",
       "\n",
       "    .dataframe tbody tr th {\n",
       "        vertical-align: top;\n",
       "    }\n",
       "\n",
       "    .dataframe thead th {\n",
       "        text-align: right;\n",
       "    }\n",
       "</style>\n",
       "<table border=\"1\" class=\"dataframe\">\n",
       "  <thead>\n",
       "    <tr style=\"text-align: right;\">\n",
       "      <th></th>\n",
       "      <th>SepalLenght</th>\n",
       "      <th>SepalWidth</th>\n",
       "      <th>PetalLength</th>\n",
       "      <th>PetalWidth</th>\n",
       "      <th>Species</th>\n",
       "    </tr>\n",
       "  </thead>\n",
       "  <tbody>\n",
       "    <tr>\n",
       "      <th>0</th>\n",
       "      <td>6.4</td>\n",
       "      <td>2.8</td>\n",
       "      <td>5.6</td>\n",
       "      <td>2.2</td>\n",
       "      <td>2</td>\n",
       "    </tr>\n",
       "    <tr>\n",
       "      <th>1</th>\n",
       "      <td>5.0</td>\n",
       "      <td>2.3</td>\n",
       "      <td>3.3</td>\n",
       "      <td>1.0</td>\n",
       "      <td>1</td>\n",
       "    </tr>\n",
       "    <tr>\n",
       "      <th>2</th>\n",
       "      <td>4.9</td>\n",
       "      <td>2.5</td>\n",
       "      <td>4.5</td>\n",
       "      <td>1.7</td>\n",
       "      <td>2</td>\n",
       "    </tr>\n",
       "    <tr>\n",
       "      <th>3</th>\n",
       "      <td>4.9</td>\n",
       "      <td>3.1</td>\n",
       "      <td>1.5</td>\n",
       "      <td>0.1</td>\n",
       "      <td>0</td>\n",
       "    </tr>\n",
       "    <tr>\n",
       "      <th>4</th>\n",
       "      <td>5.7</td>\n",
       "      <td>3.8</td>\n",
       "      <td>1.7</td>\n",
       "      <td>0.3</td>\n",
       "      <td>0</td>\n",
       "    </tr>\n",
       "  </tbody>\n",
       "</table>\n",
       "</div>"
      ],
      "text/plain": [
       "   SepalLenght  SepalWidth  PetalLength  PetalWidth  Species\n",
       "0          6.4         2.8          5.6         2.2        2\n",
       "1          5.0         2.3          3.3         1.0        1\n",
       "2          4.9         2.5          4.5         1.7        2\n",
       "3          4.9         3.1          1.5         0.1        0\n",
       "4          5.7         3.8          1.7         0.3        0"
      ]
     },
     "execution_count": 5,
     "metadata": {},
     "output_type": "execute_result"
    }
   ],
   "source": [
    "train.head()"
   ]
  },
  {
   "cell_type": "code",
   "execution_count": 6,
   "id": "171f16d8-9c2a-475d-b8d5-9170f8e38136",
   "metadata": {},
   "outputs": [
    {
     "data": {
      "text/html": [
       "<div>\n",
       "<style scoped>\n",
       "    .dataframe tbody tr th:only-of-type {\n",
       "        vertical-align: middle;\n",
       "    }\n",
       "\n",
       "    .dataframe tbody tr th {\n",
       "        vertical-align: top;\n",
       "    }\n",
       "\n",
       "    .dataframe thead th {\n",
       "        text-align: right;\n",
       "    }\n",
       "</style>\n",
       "<table border=\"1\" class=\"dataframe\">\n",
       "  <thead>\n",
       "    <tr style=\"text-align: right;\">\n",
       "      <th></th>\n",
       "      <th>SepalLenght</th>\n",
       "      <th>SepalWidth</th>\n",
       "      <th>PetalLength</th>\n",
       "      <th>PetalWidth</th>\n",
       "      <th>Species</th>\n",
       "    </tr>\n",
       "  </thead>\n",
       "  <tbody>\n",
       "    <tr>\n",
       "      <th>0</th>\n",
       "      <td>5.9</td>\n",
       "      <td>3.0</td>\n",
       "      <td>4.2</td>\n",
       "      <td>1.5</td>\n",
       "      <td>1</td>\n",
       "    </tr>\n",
       "    <tr>\n",
       "      <th>1</th>\n",
       "      <td>6.9</td>\n",
       "      <td>3.1</td>\n",
       "      <td>5.4</td>\n",
       "      <td>2.1</td>\n",
       "      <td>2</td>\n",
       "    </tr>\n",
       "    <tr>\n",
       "      <th>2</th>\n",
       "      <td>5.1</td>\n",
       "      <td>3.3</td>\n",
       "      <td>1.7</td>\n",
       "      <td>0.5</td>\n",
       "      <td>0</td>\n",
       "    </tr>\n",
       "    <tr>\n",
       "      <th>3</th>\n",
       "      <td>6.0</td>\n",
       "      <td>3.4</td>\n",
       "      <td>4.5</td>\n",
       "      <td>1.6</td>\n",
       "      <td>1</td>\n",
       "    </tr>\n",
       "    <tr>\n",
       "      <th>4</th>\n",
       "      <td>5.5</td>\n",
       "      <td>2.5</td>\n",
       "      <td>4.0</td>\n",
       "      <td>1.3</td>\n",
       "      <td>1</td>\n",
       "    </tr>\n",
       "  </tbody>\n",
       "</table>\n",
       "</div>"
      ],
      "text/plain": [
       "   SepalLenght  SepalWidth  PetalLength  PetalWidth  Species\n",
       "0          5.9         3.0          4.2         1.5        1\n",
       "1          6.9         3.1          5.4         2.1        2\n",
       "2          5.1         3.3          1.7         0.5        0\n",
       "3          6.0         3.4          4.5         1.6        1\n",
       "4          5.5         2.5          4.0         1.3        1"
      ]
     },
     "execution_count": 6,
     "metadata": {},
     "output_type": "execute_result"
    }
   ],
   "source": [
    "test.head()"
   ]
  },
  {
   "cell_type": "code",
   "execution_count": 7,
   "id": "58cd6263-75b1-4a1a-a5ed-053488422b5b",
   "metadata": {},
   "outputs": [
    {
     "data": {
      "text/plain": [
       "((120, 5), (30, 5))"
      ]
     },
     "execution_count": 7,
     "metadata": {},
     "output_type": "execute_result"
    }
   ],
   "source": [
    "train.shape, test.shape"
   ]
  },
  {
   "cell_type": "code",
   "execution_count": 8,
   "id": "2e4b0fa0-7ce2-40a8-8f64-916ebe6c7a6c",
   "metadata": {},
   "outputs": [],
   "source": [
    "train_y = train.pop('Species')\n",
    "test_y = test.pop('Species')"
   ]
  },
  {
   "cell_type": "code",
   "execution_count": 9,
   "id": "47385f7f-c996-41c7-ab2b-81cd4f7027e9",
   "metadata": {},
   "outputs": [
    {
     "data": {
      "text/html": [
       "<div>\n",
       "<style scoped>\n",
       "    .dataframe tbody tr th:only-of-type {\n",
       "        vertical-align: middle;\n",
       "    }\n",
       "\n",
       "    .dataframe tbody tr th {\n",
       "        vertical-align: top;\n",
       "    }\n",
       "\n",
       "    .dataframe thead th {\n",
       "        text-align: right;\n",
       "    }\n",
       "</style>\n",
       "<table border=\"1\" class=\"dataframe\">\n",
       "  <thead>\n",
       "    <tr style=\"text-align: right;\">\n",
       "      <th></th>\n",
       "      <th>SepalLenght</th>\n",
       "      <th>SepalWidth</th>\n",
       "      <th>PetalLength</th>\n",
       "      <th>PetalWidth</th>\n",
       "    </tr>\n",
       "  </thead>\n",
       "  <tbody>\n",
       "    <tr>\n",
       "      <th>0</th>\n",
       "      <td>5.9</td>\n",
       "      <td>3.0</td>\n",
       "      <td>4.2</td>\n",
       "      <td>1.5</td>\n",
       "    </tr>\n",
       "    <tr>\n",
       "      <th>1</th>\n",
       "      <td>6.9</td>\n",
       "      <td>3.1</td>\n",
       "      <td>5.4</td>\n",
       "      <td>2.1</td>\n",
       "    </tr>\n",
       "    <tr>\n",
       "      <th>2</th>\n",
       "      <td>5.1</td>\n",
       "      <td>3.3</td>\n",
       "      <td>1.7</td>\n",
       "      <td>0.5</td>\n",
       "    </tr>\n",
       "    <tr>\n",
       "      <th>3</th>\n",
       "      <td>6.0</td>\n",
       "      <td>3.4</td>\n",
       "      <td>4.5</td>\n",
       "      <td>1.6</td>\n",
       "    </tr>\n",
       "    <tr>\n",
       "      <th>4</th>\n",
       "      <td>5.5</td>\n",
       "      <td>2.5</td>\n",
       "      <td>4.0</td>\n",
       "      <td>1.3</td>\n",
       "    </tr>\n",
       "  </tbody>\n",
       "</table>\n",
       "</div>"
      ],
      "text/plain": [
       "   SepalLenght  SepalWidth  PetalLength  PetalWidth\n",
       "0          5.9         3.0          4.2         1.5\n",
       "1          6.9         3.1          5.4         2.1\n",
       "2          5.1         3.3          1.7         0.5\n",
       "3          6.0         3.4          4.5         1.6\n",
       "4          5.5         2.5          4.0         1.3"
      ]
     },
     "execution_count": 9,
     "metadata": {},
     "output_type": "execute_result"
    }
   ],
   "source": [
    "test.head()"
   ]
  },
  {
   "cell_type": "code",
   "execution_count": 10,
   "id": "b64ac751-9296-4424-8c6e-0c9540377a8b",
   "metadata": {},
   "outputs": [],
   "source": [
    "def input_fn(features, labels, training=True, batch_size=256):\n",
    "    dataset = tf.data.Dataset.from_tensor_slices((dict(features), labels))\n",
    "\n",
    "    if training:\n",
    "        dataset = dataset.shuffle(1000).repeat()\n",
    "\n",
    "    return dataset.batch(batch_size)"
   ]
  },
  {
   "cell_type": "code",
   "execution_count": 11,
   "id": "267c1076-85cd-4306-981c-1e15617a7e7a",
   "metadata": {},
   "outputs": [],
   "source": [
    "my_feature_columns = []\n",
    "for key in train.keys(): \n",
    "    my_feature_columns.append(tf.feature_column.numeric_column(key=key))"
   ]
  },
  {
   "cell_type": "code",
   "execution_count": 12,
   "id": "137a494a-1f3a-42b7-b311-3e6e52ed26b1",
   "metadata": {},
   "outputs": [
    {
     "name": "stdout",
     "output_type": "stream",
     "text": [
      "INFO:tensorflow:Using default config.\n",
      "WARNING:tensorflow:Using temporary folder as model directory: C:\\Users\\milen\\AppData\\Local\\Temp\\tmp2sao51eg\n",
      "INFO:tensorflow:Using config: {'_model_dir': 'C:\\\\Users\\\\milen\\\\AppData\\\\Local\\\\Temp\\\\tmp2sao51eg', '_tf_random_seed': None, '_save_summary_steps': 100, '_save_checkpoints_steps': None, '_save_checkpoints_secs': 600, '_session_config': allow_soft_placement: true\n",
      "graph_options {\n",
      "  rewrite_options {\n",
      "    meta_optimizer_iterations: ONE\n",
      "  }\n",
      "}\n",
      ", '_keep_checkpoint_max': 5, '_keep_checkpoint_every_n_hours': 10000, '_log_step_count_steps': 100, '_train_distribute': None, '_device_fn': None, '_protocol': None, '_eval_distribute': None, '_experimental_distribute': None, '_experimental_max_worker_delay_secs': None, '_session_creation_timeout_secs': 7200, '_checkpoint_save_graph_def': True, '_service': None, '_cluster_spec': ClusterSpec({}), '_task_type': 'worker', '_task_id': 0, '_global_id_in_cluster': 0, '_master': '', '_evaluation_master': '', '_is_chief': True, '_num_ps_replicas': 0, '_num_worker_replicas': 1}\n"
     ]
    }
   ],
   "source": [
    "classifier = tf.estimator.DNNClassifier(\n",
    "    feature_columns=my_feature_columns,\n",
    "    hidden_units=[30, 10],\n",
    "    n_classes=3)"
   ]
  },
  {
   "cell_type": "code",
   "execution_count": 13,
   "id": "9999052f-5049-48c4-add9-b02bf42a6346",
   "metadata": {},
   "outputs": [
    {
     "name": "stdout",
     "output_type": "stream",
     "text": [
      "WARNING:tensorflow:From C:\\Users\\milen\\anaconda3\\lib\\site-packages\\tensorflow\\python\\training\\training_util.py:396: Variable.initialized_value (from tensorflow.python.ops.variables) is deprecated and will be removed in a future version.\n",
      "Instructions for updating:\n",
      "Use Variable.read_value. Variables in 2.X are initialized automatically both in eager and graph (inside tf.defun) contexts.\n",
      "INFO:tensorflow:Calling model_fn.\n",
      "WARNING:tensorflow:From C:\\Users\\milen\\anaconda3\\lib\\site-packages\\keras\\optimizer_v2\\adagrad.py:83: calling Constant.__init__ (from tensorflow.python.ops.init_ops) with dtype is deprecated and will be removed in a future version.\n",
      "Instructions for updating:\n",
      "Call initializer instance with the dtype argument instead of passing it to the constructor\n",
      "INFO:tensorflow:Done calling model_fn.\n",
      "INFO:tensorflow:Create CheckpointSaverHook.\n",
      "INFO:tensorflow:Graph was finalized.\n",
      "INFO:tensorflow:Running local_init_op.\n",
      "INFO:tensorflow:Done running local_init_op.\n",
      "INFO:tensorflow:Calling checkpoint listeners before saving checkpoint 0...\n",
      "INFO:tensorflow:Saving checkpoints for 0 into C:\\Users\\milen\\AppData\\Local\\Temp\\tmp2sao51eg\\model.ckpt.\n",
      "INFO:tensorflow:Calling checkpoint listeners after saving checkpoint 0...\n",
      "INFO:tensorflow:loss = 1.0981604, step = 0\n",
      "INFO:tensorflow:global_step/sec: 184.608\n",
      "INFO:tensorflow:loss = 0.8506774, step = 100 (0.543 sec)\n",
      "INFO:tensorflow:global_step/sec: 254.6\n",
      "INFO:tensorflow:loss = 0.79680544, step = 200 (0.394 sec)\n",
      "INFO:tensorflow:global_step/sec: 277.648\n",
      "INFO:tensorflow:loss = 0.7491636, step = 300 (0.362 sec)\n",
      "INFO:tensorflow:global_step/sec: 329.126\n",
      "INFO:tensorflow:loss = 0.7109465, step = 400 (0.301 sec)\n",
      "INFO:tensorflow:global_step/sec: 333.091\n",
      "INFO:tensorflow:loss = 0.69427526, step = 500 (0.300 sec)\n",
      "INFO:tensorflow:global_step/sec: 322.963\n",
      "INFO:tensorflow:loss = 0.66711766, step = 600 (0.311 sec)\n",
      "INFO:tensorflow:global_step/sec: 290.561\n",
      "INFO:tensorflow:loss = 0.6337332, step = 700 (0.344 sec)\n",
      "INFO:tensorflow:global_step/sec: 335.218\n",
      "INFO:tensorflow:loss = 0.62190664, step = 800 (0.298 sec)\n",
      "INFO:tensorflow:global_step/sec: 308.78\n",
      "INFO:tensorflow:loss = 0.60474044, step = 900 (0.323 sec)\n",
      "INFO:tensorflow:global_step/sec: 287.662\n",
      "INFO:tensorflow:loss = 0.59230506, step = 1000 (0.347 sec)\n",
      "INFO:tensorflow:global_step/sec: 335.668\n",
      "INFO:tensorflow:loss = 0.57940435, step = 1100 (0.300 sec)\n",
      "INFO:tensorflow:global_step/sec: 331.457\n",
      "INFO:tensorflow:loss = 0.5595135, step = 1200 (0.301 sec)\n",
      "INFO:tensorflow:global_step/sec: 322.227\n",
      "INFO:tensorflow:loss = 0.5662813, step = 1300 (0.312 sec)\n",
      "INFO:tensorflow:global_step/sec: 316.62\n",
      "INFO:tensorflow:loss = 0.5390027, step = 1400 (0.315 sec)\n",
      "INFO:tensorflow:global_step/sec: 266.171\n",
      "INFO:tensorflow:loss = 0.52149373, step = 1500 (0.375 sec)\n",
      "INFO:tensorflow:global_step/sec: 331.988\n",
      "INFO:tensorflow:loss = 0.5100651, step = 1600 (0.301 sec)\n",
      "INFO:tensorflow:global_step/sec: 339.357\n",
      "INFO:tensorflow:loss = 0.50288975, step = 1700 (0.296 sec)\n",
      "INFO:tensorflow:global_step/sec: 323.852\n",
      "INFO:tensorflow:loss = 0.49748966, step = 1800 (0.308 sec)\n",
      "INFO:tensorflow:global_step/sec: 319.93\n",
      "INFO:tensorflow:loss = 0.4831152, step = 1900 (0.312 sec)\n",
      "INFO:tensorflow:global_step/sec: 316.04\n",
      "INFO:tensorflow:loss = 0.47299993, step = 2000 (0.316 sec)\n",
      "INFO:tensorflow:global_step/sec: 303.415\n",
      "INFO:tensorflow:loss = 0.46980163, step = 2100 (0.329 sec)\n",
      "INFO:tensorflow:global_step/sec: 263.309\n",
      "INFO:tensorflow:loss = 0.46839988, step = 2200 (0.380 sec)\n",
      "INFO:tensorflow:global_step/sec: 280.441\n",
      "INFO:tensorflow:loss = 0.44862717, step = 2300 (0.357 sec)\n",
      "INFO:tensorflow:global_step/sec: 328.338\n",
      "INFO:tensorflow:loss = 0.4546544, step = 2400 (0.305 sec)\n",
      "INFO:tensorflow:global_step/sec: 332.658\n",
      "INFO:tensorflow:loss = 0.46394092, step = 2500 (0.302 sec)\n",
      "INFO:tensorflow:global_step/sec: 331.345\n",
      "INFO:tensorflow:loss = 0.44003743, step = 2600 (0.300 sec)\n",
      "INFO:tensorflow:global_step/sec: 321.627\n",
      "INFO:tensorflow:loss = 0.43683645, step = 2700 (0.311 sec)\n",
      "INFO:tensorflow:global_step/sec: 335.224\n",
      "INFO:tensorflow:loss = 0.4315721, step = 2800 (0.298 sec)\n",
      "INFO:tensorflow:global_step/sec: 329.75\n",
      "INFO:tensorflow:loss = 0.41506088, step = 2900 (0.305 sec)\n",
      "INFO:tensorflow:global_step/sec: 330.512\n",
      "INFO:tensorflow:loss = 0.41474336, step = 3000 (0.303 sec)\n",
      "INFO:tensorflow:global_step/sec: 332.266\n",
      "INFO:tensorflow:loss = 0.41298303, step = 3100 (0.300 sec)\n",
      "INFO:tensorflow:global_step/sec: 332.62\n",
      "INFO:tensorflow:loss = 0.4017926, step = 3200 (0.301 sec)\n",
      "INFO:tensorflow:global_step/sec: 332.126\n",
      "INFO:tensorflow:loss = 0.40042293, step = 3300 (0.301 sec)\n",
      "INFO:tensorflow:global_step/sec: 332.378\n",
      "INFO:tensorflow:loss = 0.39830622, step = 3400 (0.301 sec)\n",
      "INFO:tensorflow:global_step/sec: 340.416\n",
      "INFO:tensorflow:loss = 0.39448622, step = 3500 (0.294 sec)\n",
      "INFO:tensorflow:global_step/sec: 332.523\n",
      "INFO:tensorflow:loss = 0.38044566, step = 3600 (0.302 sec)\n",
      "INFO:tensorflow:global_step/sec: 331.645\n",
      "INFO:tensorflow:loss = 0.37359834, step = 3700 (0.302 sec)\n",
      "INFO:tensorflow:global_step/sec: 331.837\n",
      "INFO:tensorflow:loss = 0.3813758, step = 3800 (0.300 sec)\n",
      "INFO:tensorflow:global_step/sec: 335.455\n",
      "INFO:tensorflow:loss = 0.37869525, step = 3900 (0.299 sec)\n",
      "INFO:tensorflow:global_step/sec: 331.675\n",
      "INFO:tensorflow:loss = 0.37130618, step = 4000 (0.301 sec)\n",
      "INFO:tensorflow:global_step/sec: 332.244\n",
      "INFO:tensorflow:loss = 0.34962165, step = 4100 (0.301 sec)\n",
      "INFO:tensorflow:global_step/sec: 339.764\n",
      "INFO:tensorflow:loss = 0.35644463, step = 4200 (0.294 sec)\n",
      "INFO:tensorflow:global_step/sec: 333.569\n",
      "INFO:tensorflow:loss = 0.35765237, step = 4300 (0.300 sec)\n",
      "INFO:tensorflow:global_step/sec: 320.036\n",
      "INFO:tensorflow:loss = 0.35863236, step = 4400 (0.312 sec)\n",
      "INFO:tensorflow:global_step/sec: 330.542\n",
      "INFO:tensorflow:loss = 0.35231087, step = 4500 (0.303 sec)\n",
      "INFO:tensorflow:global_step/sec: 277.594\n",
      "INFO:tensorflow:loss = 0.35451108, step = 4600 (0.360 sec)\n",
      "INFO:tensorflow:global_step/sec: 259.228\n",
      "INFO:tensorflow:loss = 0.33910042, step = 4700 (0.386 sec)\n",
      "INFO:tensorflow:global_step/sec: 283.633\n",
      "INFO:tensorflow:loss = 0.34084395, step = 4800 (0.353 sec)\n",
      "INFO:tensorflow:global_step/sec: 275.641\n",
      "INFO:tensorflow:loss = 0.347148, step = 4900 (0.364 sec)\n",
      "INFO:tensorflow:Calling checkpoint listeners before saving checkpoint 5000...\n",
      "INFO:tensorflow:Saving checkpoints for 5000 into C:\\Users\\milen\\AppData\\Local\\Temp\\tmp2sao51eg\\model.ckpt.\n",
      "INFO:tensorflow:Calling checkpoint listeners after saving checkpoint 5000...\n",
      "INFO:tensorflow:Loss for final step: 0.339283.\n"
     ]
    },
    {
     "data": {
      "text/plain": [
       "<tensorflow_estimator.python.estimator.canned.dnn.DNNClassifierV2 at 0x256d8266be0>"
      ]
     },
     "execution_count": 13,
     "metadata": {},
     "output_type": "execute_result"
    }
   ],
   "source": [
    "classifier.train(\n",
    "    input_fn= lambda: input_fn(train, train_y, training=True), steps=5000)"
   ]
  },
  {
   "cell_type": "code",
   "execution_count": 14,
   "id": "960160dd-09bb-45a4-ad31-a882b603af94",
   "metadata": {},
   "outputs": [
    {
     "name": "stdout",
     "output_type": "stream",
     "text": [
      "INFO:tensorflow:Calling model_fn.\n",
      "INFO:tensorflow:Done calling model_fn.\n",
      "INFO:tensorflow:Starting evaluation at 2022-04-26T08:18:46\n",
      "INFO:tensorflow:Graph was finalized.\n",
      "INFO:tensorflow:Restoring parameters from C:\\Users\\milen\\AppData\\Local\\Temp\\tmp2sao51eg\\model.ckpt-5000\n",
      "INFO:tensorflow:Running local_init_op.\n",
      "INFO:tensorflow:Done running local_init_op.\n",
      "INFO:tensorflow:Inference Time : 1.78845s\n",
      "INFO:tensorflow:Finished evaluation at 2022-04-26-08:18:48\n",
      "INFO:tensorflow:Saving dict for global step 5000: accuracy = 0.93333334, average_loss = 0.39067924, global_step = 5000, loss = 0.39067924\n",
      "INFO:tensorflow:Saving 'checkpoint_path' summary for global step 5000: C:\\Users\\milen\\AppData\\Local\\Temp\\tmp2sao51eg\\model.ckpt-5000\n",
      "\n",
      "Test set accuracy: 0.933\n",
      "\n"
     ]
    }
   ],
   "source": [
    "eval_result = classifier.evaluate(\n",
    "    input_fn=lambda: input_fn(test, test_y, training=False))\n",
    "\n",
    "print('\\nTest set accuracy: {accuracy:0.3f}\\n'.format(**eval_result))"
   ]
  },
  {
   "cell_type": "code",
   "execution_count": null,
   "id": "c9528e64-1ac9-454e-9c44-4ae3af3b8629",
   "metadata": {},
   "outputs": [
    {
     "name": "stdout",
     "output_type": "stream",
     "text": [
      "Please type numeric values as prompted\n"
     ]
    }
   ],
   "source": [
    "def input_fn(features, batch_size=256):\n",
    "    return tf.data.Dataset.from_tensor_slices(dict(features)).batch(batch_size)\n",
    "\n",
    "features = ['SepalLenght', 'SepalWidth', 'PetalLenght', 'PetalWidth']\n",
    "predict = {}\n",
    "\n",
    "print(\"Please type numeric values as prompted\")\n",
    "for features in features: \n",
    "    valid = True\n",
    "    while valid: \n",
    "        val = input(features + \":\")\n",
    "        if not val.isdigit(): valid = False\n",
    "            \n",
    "    predict[features] = [float(val)]\n",
    "        \n",
    "predictions = classifier.predict(input_fn=lambda: input_fn(predict_x))({})\n",
    "for pred_dict in predictions: \n",
    "    class_id = pred_dict['class_id'][0]\n",
    "    probability = pred_dict['probabilities'][class_id]\n",
    "    \n",
    "    print('prediction is \"{}\" ({:0.1 f}%)'.format(\n",
    "            SPECIES[class_id], 100 * probability))"
   ]
  },
  {
   "cell_type": "code",
   "execution_count": null,
   "id": "e2834c99-e963-4a2c-ac43-018e6440c478",
   "metadata": {},
   "outputs": [],
   "source": []
  }
 ],
 "metadata": {
  "kernelspec": {
   "display_name": "Python 3",
   "language": "python",
   "name": "python3"
  },
  "language_info": {
   "codemirror_mode": {
    "name": "ipython",
    "version": 3
   },
   "file_extension": ".py",
   "mimetype": "text/x-python",
   "name": "python",
   "nbconvert_exporter": "python",
   "pygments_lexer": "ipython3",
   "version": "3.8.8"
  }
 },
 "nbformat": 4,
 "nbformat_minor": 5
}
